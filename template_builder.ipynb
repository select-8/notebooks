{
 "cells": [
  {
   "cell_type": "code",
   "execution_count": 1,
   "metadata": {},
   "outputs": [],
   "source": [
    "def get_template(tmpl):\n",
    "    tmpl1 = \"\"\"The Field = {theField}\"\"\"\n",
    "    tmpl2 = \"\"\"The Store = {theStore}\"\"\"\n",
    "    tmpl3 = \"\"\"The Model = {theModel}\"\"\"\n",
    "    \n",
    "    if tmpl == 'store':\n",
    "        result = tmpl2\n",
    "    elif tmpl == 'model':\n",
    "        result = tmpl3\n",
    "    elif tmple == 'field':\n",
    "        result = tmpl1\n",
    "    \n",
    "    return result"
   ]
  },
  {
   "cell_type": "code",
   "execution_count": 2,
   "metadata": {},
   "outputs": [],
   "source": [
    "def getTxt(tmpl, params):\n",
    "    return tmpl.format(**params)"
   ]
  },
  {
   "cell_type": "code",
   "execution_count": 3,
   "metadata": {},
   "outputs": [],
   "source": [
    "params = {\"theField\": 'OID',\n",
    "         \"theStore\": 'STORE',\n",
    "         \"theModel\": 'MODELL'}"
   ]
  },
  {
   "cell_type": "code",
   "execution_count": 4,
   "metadata": {},
   "outputs": [
    {
     "name": "stdout",
     "output_type": "stream",
     "text": [
      "The Model = MODEL\n"
     ]
    }
   ],
   "source": [
    "template = get_template('model')\n",
    "txt = getTxt(template, params)\n",
    "print(txt)"
   ]
  },
  {
   "cell_type": "code",
   "execution_count": 5,
   "metadata": {},
   "outputs": [
    {
     "name": "stdout",
     "output_type": "stream",
     "text": [
      "The Store = STORE\n"
     ]
    }
   ],
   "source": [
    "template = get_template('store')\n",
    "txt = getTxt(template, params)\n",
    "print(txt)"
   ]
  }
 ],
 "metadata": {
  "kernelspec": {
   "display_name": "Python 3",
   "language": "python",
   "name": "python3"
  },
  "language_info": {
   "codemirror_mode": {
    "name": "ipython",
    "version": 3
   },
   "file_extension": ".py",
   "mimetype": "text/x-python",
   "name": "python",
   "nbconvert_exporter": "python",
   "pygments_lexer": "ipython3",
   "version": "3.7.4"
  }
 },
 "nbformat": 4,
 "nbformat_minor": 4
}
